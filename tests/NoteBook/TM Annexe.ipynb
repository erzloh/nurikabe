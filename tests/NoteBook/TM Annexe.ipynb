{
 "cells": [
  {
   "cell_type": "markdown",
   "metadata": {},
   "source": [
    "# Nurikabe : Graphe et fonctions en Python"
   ]
  },
  {
   "cell_type": "markdown",
   "metadata": {},
   "source": [
    "Ce document est écrit avec Notebook Jupyter.  \n",
    "On peut représenter le Nurikabe en s'appuyant sur la théorie des graphes. La formualtion qui suit est basé selon la thèse de Bachelor de Johan Groenen, étudiant à l'université de Leiden.  \n",
    "Ce document a pour but de montrer de manière simple certaines fonctions que nous avons utilisés dans notre algorithme. La lecture du code entier de notre programme pourrait être long et compliqué, c'est pourquoi ce document montre petit à petit comment marche certaines de nos fonctions.  \n",
    "Ce document consiste en des reflexions sur le sujet mais ce document fait également office de terrain d'experimentation de Jupyter Notebook ainsi que du module NumPy."
   ]
  },
  {
   "cell_type": "markdown",
   "metadata": {},
   "source": [
    "### Représentation de la grille Nurikabe sous forme de graphe\n",
    "Une grille d'un Nurikabe $m \\times n$ peut être définie comme un graphe non-directionnel $G = (X, A)$ avec $X$ étant l'ensemble des sommets et $A$ étant l'ensemble des arêtes du graphe.\n",
    "\n",
    "$$ X = \\{(i, j)|i \\in \\{1, ..., m\\}, j \\in \\{1, ..., n\\}\\} $$\n",
    "\n",
    "$$ A = \\{(a, b)|a, b \\in X, adj(a, b)\\} $$\n",
    "\n"
   ]
  },
  {
   "cell_type": "markdown",
   "metadata": {},
   "source": [
    "$X$ représente toutes les cellules de la grille et $adj(a, b)$ est la relation d'adjacence entre deux cellules. Deux cellules $a = (i, j)$ et $b = (k, l)$ sont adjacents, indiqué par $adj(a, b)$, si\n",
    "\n",
    "$$ |i - k| + |j - l| = 1 $$"
   ]
  },
  {
   "cell_type": "markdown",
   "metadata": {},
   "source": [
    "## Représentation du Nurikabe en Python"
   ]
  },
  {
   "cell_type": "markdown",
   "metadata": {},
   "source": [
    "Le code qui suit utilise le module NumPy. Nous n'avons pas utilisé NumPy dans notre programme car nous n'en avions pas connaissance cependant nous avons essayer de chercher et de comprendre comment l'utiliser. Le Nurikabe est représenté sous la forme d'un tableau à deux dimensions. NumPy permet justement de manipuler des tableaux avec des fonctions propre au module.  \n",
    "Le code qui suit n'a pas été utilisé dans notre programme mais a été écrit a posteriori."
   ]
  },
  {
   "cell_type": "code",
   "execution_count": 3,
   "metadata": {},
   "outputs": [],
   "source": [
    "import numpy as np"
   ]
  },
  {
   "cell_type": "code",
   "execution_count": 4,
   "metadata": {},
   "outputs": [],
   "source": [
    "P = np.array([[0, 0, 0, 0, 0],\n",
    "              [6, 0, 2, 0, 0],\n",
    "              [0, 0, 0, 0, 0],\n",
    "              [0, 0, 2, 0, 2],\n",
    "              [0, 0, 0, 0, 0]])"
   ]
  },
  {
   "cell_type": "code",
   "execution_count": 5,
   "metadata": {},
   "outputs": [
    {
     "name": "stdout",
     "output_type": "stream",
     "text": [
      "[[0 0 0 0 0]\n",
      " [6 0 2 0 0]\n",
      " [0 0 0 0 0]\n",
      " [0 0 2 0 2]\n",
      " [0 0 0 0 0]]\n"
     ]
    }
   ],
   "source": [
    "print(P)"
   ]
  },
  {
   "cell_type": "markdown",
   "metadata": {},
   "source": [
    "La fonction numpy.array permet de créer un objet \"array\" de la table du Nurikabe. On pourra par la suite utiliser d'autre fonctions de NumPy sur ce tableau.  \n",
    "\"0\" représente les cellules indéfinies.  "
   ]
  },
  {
   "cell_type": "markdown",
   "metadata": {},
   "source": [
    "### Fonction indiquant l'adjacence de deux cellules :"
   ]
  },
  {
   "cell_type": "code",
   "execution_count": 9,
   "metadata": {},
   "outputs": [],
   "source": [
    "def adj(a, b):\n",
    "    return abs(a[0] - b[0]) + abs(a[1] - b[1]) == 1"
   ]
  },
  {
   "cell_type": "markdown",
   "metadata": {},
   "source": [
    "Exemples :"
   ]
  },
  {
   "cell_type": "code",
   "execution_count": 7,
   "metadata": {},
   "outputs": [
    {
     "data": {
      "text/plain": [
       "True"
      ]
     },
     "execution_count": 7,
     "metadata": {},
     "output_type": "execute_result"
    }
   ],
   "source": [
    "adj((0, 0), (0, 1))"
   ]
  },
  {
   "cell_type": "code",
   "execution_count": 8,
   "metadata": {},
   "outputs": [
    {
     "data": {
      "text/plain": [
       "False"
      ]
     },
     "execution_count": 8,
     "metadata": {},
     "output_type": "execute_result"
    }
   ],
   "source": [
    "adj((0, 0), (0, 2))"
   ]
  },
  {
   "cell_type": "markdown",
   "metadata": {},
   "source": [
    "### Trouver l'indice des pivots"
   ]
  },
  {
   "cell_type": "markdown",
   "metadata": {},
   "source": [
    "Un pivot correspond à la cellule d'une île qui contient un chiffre (taille de l'île) "
   ]
  },
  {
   "cell_type": "code",
   "execution_count": 14,
   "metadata": {},
   "outputs": [
    {
     "data": {
      "text/plain": [
       "(array([1, 1, 3, 3]), array([0, 2, 2, 4]))"
      ]
     },
     "execution_count": 14,
     "metadata": {},
     "output_type": "execute_result"
    }
   ],
   "source": [
    "np.nonzero(P)"
   ]
  },
  {
   "cell_type": "markdown",
   "metadata": {},
   "source": [
    "Ici, le résultat n'est pas encore convaincant."
   ]
  },
  {
   "cell_type": "code",
   "execution_count": 12,
   "metadata": {
    "scrolled": false
   },
   "outputs": [
    {
     "data": {
      "text/plain": [
       "array([[1, 0],\n",
       "       [1, 2],\n",
       "       [3, 2],\n",
       "       [3, 4]])"
      ]
     },
     "execution_count": 12,
     "metadata": {},
     "output_type": "execute_result"
    }
   ],
   "source": [
    "np.transpose(np.nonzero(P))"
   ]
  },
  {
   "cell_type": "markdown",
   "metadata": {},
   "source": [
    "De cette manière, on obtient une liste des indices des pivots. On peut créer une fonction qui nous retourne cette liste."
   ]
  },
  {
   "cell_type": "code",
   "execution_count": 15,
   "metadata": {},
   "outputs": [],
   "source": [
    "def pivot_index(P):\n",
    "    return  np.transpose(np.nonzero(P))"
   ]
  },
  {
   "cell_type": "code",
   "execution_count": 16,
   "metadata": {},
   "outputs": [
    {
     "data": {
      "text/plain": [
       "array([[1, 0],\n",
       "       [1, 2],\n",
       "       [3, 2],\n",
       "       [3, 4]])"
      ]
     },
     "execution_count": 16,
     "metadata": {},
     "output_type": "execute_result"
    }
   ],
   "source": [
    "pivot_index(P)"
   ]
  }
 ],
 "metadata": {
  "kernelspec": {
   "display_name": "Python 3",
   "language": "python",
   "name": "python3"
  },
  "language_info": {
   "codemirror_mode": {
    "name": "ipython",
    "version": 3
   },
   "file_extension": ".py",
   "mimetype": "text/x-python",
   "name": "python",
   "nbconvert_exporter": "python",
   "pygments_lexer": "ipython3",
   "version": "3.7.1"
  }
 },
 "nbformat": 4,
 "nbformat_minor": 2
}
