{
 "cells": [
  {
   "cell_type": "markdown",
   "metadata": {},
   "source": [
    "# Analyse et concepts du Nurikabe\n",
    "Analyse fait avec un notebook Jupyter.  \n",
    "Basé sur la thèse de Bachelor de *Johan Groenen*  \n",
    "Leiden Institute of Advanced Computer Science (LIACS)  \n",
    "publié le 17 septembre, 2008"
   ]
  },
  {
   "cell_type": "markdown",
   "metadata": {},
   "source": [
    "## Abstract\n",
    "Le Nurikabe est un jeu joué sur une grille $m \\times n$. Le but est de determiner pour chaque\n",
    "cellule si celle-ci est noir ou blanc."
   ]
  },
  {
   "cell_type": "markdown",
   "metadata": {},
   "source": [
    "## Introduction\n",
    "Ce genre de puzzles sont étudiés en sciences informatiques dans le domaine de l'*intelligence artificiel*."
   ]
  },
  {
   "cell_type": "markdown",
   "metadata": {},
   "source": [
    "## Notations et Concepts\n",
    "Dans cette section nous allons définir la *Grille Nurikabe* et ensuite nous allons introduire le concepte de *Puzzle Nurikabe*."
   ]
  },
  {
   "cell_type": "markdown",
   "metadata": {},
   "source": [
    "### Représentation de la grille Nurikabe sous forme de graphe\n",
    "Une *Grille Nurikabe* $m \\times n$ est définie comme un graphe non-directionnel $G = (V,E)$ avec $V$ étant l'ensemble des sommets et $E$ étant l'ensemble des arêtes du graphe.\n",
    "\n",
    "$$ V = \\{(i, j)|i \\in \\{1, ..., m\\}, j \\in \\{1, ..., n\\}\\} $$\n",
    "\n",
    "$$ E = \\{(a, b)|a, b \\in V, adj(a, b)\\} $$\n"
   ]
  },
  {
   "cell_type": "markdown",
   "metadata": {},
   "source": [
    "## Représentation du Nurikabe en python"
   ]
  },
  {
   "cell_type": "code",
   "execution_count": 11,
   "metadata": {},
   "outputs": [],
   "source": [
    "import numpy as np"
   ]
  },
  {
   "cell_type": "code",
   "execution_count": 12,
   "metadata": {},
   "outputs": [],
   "source": [
    "P = np.array([[0, 0, 0, 0, 0],\n",
    "              [6, 0, 2, 0, 0],\n",
    "              [0, 0, 0, 0, 0],\n",
    "              [0, 0, 2, 0, 2],\n",
    "              [0, 0, 0, 0, 0]])"
   ]
  },
  {
   "cell_type": "code",
   "execution_count": 13,
   "metadata": {},
   "outputs": [
    {
     "name": "stdout",
     "output_type": "stream",
     "text": [
      "[[0 0 0 0 0]\n",
      " [6 0 2 0 0]\n",
      " [0 0 0 0 0]\n",
      " [0 0 2 0 2]\n",
      " [0 0 0 0 0]]\n"
     ]
    }
   ],
   "source": [
    "print(P)"
   ]
  },
  {
   "cell_type": "markdown",
   "metadata": {},
   "source": [
    "Fonction indiquant l'adjacence de deux cellules"
   ]
  },
  {
   "cell_type": "code",
   "execution_count": 14,
   "metadata": {},
   "outputs": [],
   "source": [
    "def adj(a, b):\n",
    "    return abs(a[0] - b[0]) + abs(a[1] - b[1]) == 1"
   ]
  },
  {
   "cell_type": "code",
   "execution_count": 15,
   "metadata": {},
   "outputs": [
    {
     "data": {
      "text/plain": [
       "True"
      ]
     },
     "execution_count": 15,
     "metadata": {},
     "output_type": "execute_result"
    }
   ],
   "source": [
    "adj((0, 0), (0, 1))"
   ]
  },
  {
   "cell_type": "code",
   "execution_count": 16,
   "metadata": {},
   "outputs": [
    {
     "data": {
      "text/plain": [
       "False"
      ]
     },
     "execution_count": 16,
     "metadata": {},
     "output_type": "execute_result"
    }
   ],
   "source": [
    "adj((0, 0), (0, 2))"
   ]
  },
  {
   "cell_type": "markdown",
   "metadata": {},
   "source": [
    "Comment trouver l'indice des pivots"
   ]
  },
  {
   "cell_type": "code",
   "execution_count": 17,
   "metadata": {},
   "outputs": [
    {
     "data": {
      "text/plain": [
       "(array([1, 1, 3, 3]), array([0, 2, 2, 4]))"
      ]
     },
     "execution_count": 17,
     "metadata": {},
     "output_type": "execute_result"
    }
   ],
   "source": [
    "np.nonzero(P)"
   ]
  },
  {
   "cell_type": "code",
   "execution_count": 18,
   "metadata": {
    "scrolled": true
   },
   "outputs": [
    {
     "data": {
      "text/plain": [
       "array([[1, 0],\n",
       "       [1, 2],\n",
       "       [3, 2],\n",
       "       [3, 4]])"
      ]
     },
     "execution_count": 18,
     "metadata": {},
     "output_type": "execute_result"
    }
   ],
   "source": [
    " np.transpose(np.nonzero(P))"
   ]
  },
  {
   "cell_type": "code",
   "execution_count": 19,
   "metadata": {},
   "outputs": [
    {
     "data": {
      "text/plain": [
       "array([[1, 0],\n",
       "       [1, 2],\n",
       "       [3, 2],\n",
       "       [3, 4]])"
      ]
     },
     "execution_count": 19,
     "metadata": {},
     "output_type": "execute_result"
    }
   ],
   "source": [
    "np.transpose(np.nonzero(P))"
   ]
  },
  {
   "cell_type": "markdown",
   "metadata": {},
   "source": [
    "Fonction qui retourne les indices des pivots"
   ]
  },
  {
   "cell_type": "code",
   "execution_count": 20,
   "metadata": {},
   "outputs": [],
   "source": [
    "def pivot_index(P):\n",
    "    return  np.transpose(np.nonzero(P))"
   ]
  },
  {
   "cell_type": "code",
   "execution_count": 21,
   "metadata": {},
   "outputs": [
    {
     "data": {
      "text/plain": [
       "array([[1, 0],\n",
       "       [1, 2],\n",
       "       [3, 2],\n",
       "       [3, 4]])"
      ]
     },
     "execution_count": 21,
     "metadata": {},
     "output_type": "execute_result"
    }
   ],
   "source": [
    "pivot_index(P)"
   ]
  },
  {
   "cell_type": "markdown",
   "metadata": {},
   "source": [
    "Fonction qui returne les valeurs des pivots"
   ]
  },
  {
   "cell_type": "code",
   "execution_count": 26,
   "metadata": {},
   "outputs": [],
   "source": [
    "def pivot_value(P):\n",
    "    values = []\n",
    "    for (i, j) in pivot_index(P):\n",
    "        values.append(P[i, j])\n",
    "    \n",
    "    return values"
   ]
  },
  {
   "cell_type": "code",
   "execution_count": 29,
   "metadata": {},
   "outputs": [
    {
     "data": {
      "text/plain": [
       "[6, 2, 2, 2]"
      ]
     },
     "execution_count": 29,
     "metadata": {},
     "output_type": "execute_result"
    }
   ],
   "source": [
    "pivot_value(P)"
   ]
  },
  {
   "cell_type": "markdown",
   "metadata": {},
   "source": [
    "## Méthode de solution"
   ]
  },
  {
   "cell_type": "markdown",
   "metadata": {},
   "source": [
    "Enumérer toutes les combinaisons possibles d'un Nurikabe donne\n",
    "$ 2^{m \\times n} $ possibilités.\n",
    "Par exemple pour le nurikabe ci-dessous, nous obtenons : "
   ]
  },
  {
   "cell_type": "code",
   "execution_count": 30,
   "metadata": {},
   "outputs": [],
   "source": [
    "P2 = np.array([[0, 0, 0, 0, 0, 0, 0, 5, 0, 2],\n",
    "               [3, 0, 0, 0, 0, 0, 0, 0, 0, 0],\n",
    "               [0, 4, 0, 0, 2, 0, 0, 0, 0, 0],\n",
    "               [0, 0, 0, 0, 0, 0, 3, 0, 0, 0],\n",
    "               [0, 4, 0, 0, 0, 4, 0, 0, 0, 0],\n",
    "               [0, 0, 0, 0, 0, 0, 0, 0, 0, 3],\n",
    "               [0, 0, 0, 0, 0, 0, 0, 0, 0, 0],\n",
    "               [0, 0, 0, 0, 0, 0, 0, 0, 0, 0],\n",
    "               [0, 3, 0, 0, 3, 0, 0, 0, 0, 0],\n",
    "               [0, 0, 1, 0, 0, 1, 0, 3, 0, 3]])"
   ]
  },
  {
   "cell_type": "code",
   "execution_count": 31,
   "metadata": {},
   "outputs": [
    {
     "data": {
      "text/plain": [
       "(10, 10)"
      ]
     },
     "execution_count": 31,
     "metadata": {},
     "output_type": "execute_result"
    }
   ],
   "source": [
    "P2.shape"
   ]
  },
  {
   "cell_type": "code",
   "execution_count": 32,
   "metadata": {},
   "outputs": [],
   "source": [
    "n, m = P2.shape"
   ]
  },
  {
   "cell_type": "code",
   "execution_count": 33,
   "metadata": {},
   "outputs": [
    {
     "data": {
      "text/plain": [
       "1267650600228229401496703205376"
      ]
     },
     "execution_count": 33,
     "metadata": {},
     "output_type": "execute_result"
    }
   ],
   "source": [
    "2**(n*m)"
   ]
  },
  {
   "cell_type": "markdown",
   "metadata": {},
   "source": [
    "Ce nombre correspond à toutes les combinaisons possibles d'un code binaire de 100 bits."
   ]
  },
  {
   "cell_type": "markdown",
   "metadata": {},
   "source": [
    "## Les pivots\n",
    "Fonction qui retourne le nombre de pivots."
   ]
  },
  {
   "cell_type": "code",
   "execution_count": 34,
   "metadata": {},
   "outputs": [
    {
     "data": {
      "text/plain": [
       "15"
      ]
     },
     "execution_count": 34,
     "metadata": {},
     "output_type": "execute_result"
    }
   ],
   "source": [
    "np.count_nonzero(P2)"
   ]
  },
  {
   "cell_type": "code",
   "execution_count": 35,
   "metadata": {},
   "outputs": [],
   "source": [
    "def pivot_nbr(P):\n",
    "    return np.count_nonzero(P)"
   ]
  },
  {
   "cell_type": "code",
   "execution_count": 36,
   "metadata": {},
   "outputs": [
    {
     "data": {
      "text/plain": [
       "15"
      ]
     },
     "execution_count": 36,
     "metadata": {},
     "output_type": "execute_result"
    }
   ],
   "source": [
    "pivot_nbr(P2)"
   ]
  },
  {
   "cell_type": "code",
   "execution_count": 37,
   "metadata": {},
   "outputs": [],
   "source": [
    "def pivot_sum(P):\n",
    "    return np.sum(P)"
   ]
  },
  {
   "cell_type": "code",
   "execution_count": 38,
   "metadata": {},
   "outputs": [
    {
     "data": {
      "text/plain": [
       "12"
      ]
     },
     "execution_count": 38,
     "metadata": {},
     "output_type": "execute_result"
    }
   ],
   "source": [
    "pivot_sum(P)"
   ]
  },
  {
   "cell_type": "markdown",
   "metadata": {},
   "source": [
    "Puisque le nombre de cellules blanches est égal à la somme des pivots, il faut compter le nombre de permutations possible.\n",
    "\n",
    "\n",
    "$$ {m \\times n \\choose N} =\\frac{(m \\times n)!}{(m \\times n -N)! \\times N!} $$"
   ]
  },
  {
   "cell_type": "code",
   "execution_count": 39,
   "metadata": {},
   "outputs": [
    {
     "name": "stdout",
     "output_type": "stream",
     "text": [
      "10 10 15 44\n"
     ]
    }
   ],
   "source": [
    "n, m = P2.shape\n",
    "p = pivot_nbr(P2) # number of pivots\n",
    "N = pivot_sum(P2) # sum of pivots\n",
    "print(n, m, p, N)"
   ]
  },
  {
   "cell_type": "markdown",
   "metadata": {},
   "source": [
    "Par exemple, pour la grille $P2$ de taille $10 \\times 10$ (44 cellules blanches, 15 pivots), le nombre de possibilité à essayer serait :"
   ]
  },
  {
   "cell_type": "code",
   "execution_count": 40,
   "metadata": {},
   "outputs": [
    {
     "name": "stdout",
     "output_type": "stream",
     "text": [
      "4.481210445054733e+22\n"
     ]
    }
   ],
   "source": [
    "import math\n",
    "\n",
    "perm = math.factorial(m*n - p)/(math.factorial(m*n - N) * math.factorial(N - p))\n",
    "print(perm)"
   ]
  },
  {
   "cell_type": "markdown",
   "metadata": {},
   "source": [
    "Si l'on voudrait calculer toutes les possibilités avec un processeur de 10 GHz, il faudrait :"
   ]
  },
  {
   "cell_type": "code",
   "execution_count": 41,
   "metadata": {},
   "outputs": [
    {
     "name": "stdout",
     "output_type": "stream",
     "text": [
      "142098 ans\n"
     ]
    }
   ],
   "source": [
    "annees = (perm / 10**10) / 60 / 60 / 24 / 365\n",
    "print(int(annees), \"ans\")"
   ]
  },
  {
   "cell_type": "markdown",
   "metadata": {},
   "source": [
    "## Trouver les voisins d'une cellule"
   ]
  },
  {
   "cell_type": "code",
   "execution_count": 99,
   "metadata": {},
   "outputs": [],
   "source": [
    "def neighbors(A, a):\n",
    "    n, m = A.shape\n",
    "    i, j = a\n",
    "    res = []\n",
    "    \n",
    "    if i > 0:\n",
    "        res.append((i-1, j))\n",
    "    if i < n-1:\n",
    "        res.append((i+1, j))\n",
    "    if j > 0:\n",
    "        res.append((i, j-1))\n",
    "    if j < m-1:\n",
    "        res.append((i, j+1))\n",
    "    return res"
   ]
  },
  {
   "cell_type": "code",
   "execution_count": 45,
   "metadata": {},
   "outputs": [
    {
     "data": {
      "text/plain": [
       "[(1, 0), (0, 1)]"
      ]
     },
     "execution_count": 45,
     "metadata": {},
     "output_type": "execute_result"
    }
   ],
   "source": [
    "neighbors(A, (0, 0))"
   ]
  },
  {
   "cell_type": "code",
   "execution_count": 46,
   "metadata": {},
   "outputs": [
    {
     "data": {
      "text/plain": [
       "[(1, 5), (0, 4), (0, 6)]"
      ]
     },
     "execution_count": 46,
     "metadata": {},
     "output_type": "execute_result"
    }
   ],
   "source": [
    "neighbors(A, (0, 5))"
   ]
  },
  {
   "cell_type": "code",
   "execution_count": 47,
   "metadata": {},
   "outputs": [
    {
     "data": {
      "text/plain": [
       "[(1, 5), (3, 5), (2, 4), (2, 6)]"
      ]
     },
     "execution_count": 47,
     "metadata": {},
     "output_type": "execute_result"
    }
   ],
   "source": [
    "neighbors(A, (2, 5))"
   ]
  },
  {
   "cell_type": "markdown",
   "metadata": {},
   "source": [
    "### Distance entre deux cellules"
   ]
  },
  {
   "cell_type": "code",
   "execution_count": 48,
   "metadata": {},
   "outputs": [],
   "source": [
    "def dist(a, b):\n",
    "    return abs(a[0]-b[0]) + abs(a[1]-b[1])"
   ]
  },
  {
   "cell_type": "code",
   "execution_count": 49,
   "metadata": {},
   "outputs": [
    {
     "data": {
      "text/plain": [
       "(3, 0, 1)"
      ]
     },
     "execution_count": 49,
     "metadata": {},
     "output_type": "execute_result"
    }
   ],
   "source": [
    "dist((1, 1), (2, 3)), dist((1, 1), (1, 1)), dist((10, 10), (10, 9))"
   ]
  },
  {
   "cell_type": "markdown",
   "metadata": {},
   "source": [
    "## Trouver les cellules qui sont entre deux pivots"
   ]
  },
  {
   "cell_type": "code",
   "execution_count": 50,
   "metadata": {},
   "outputs": [],
   "source": [
    "def between_pivots(P):\n",
    "    n, m = P.shape\n",
    "    res = []\n",
    "    for i in range(n):\n",
    "        for j in range(m-2):\n",
    "            if P[i, j] and P[i, j+2]:\n",
    "                res.append((i, j+1))\n",
    "    for j in range(m):\n",
    "        for i in range(n-2):\n",
    "            if P[i, j] and P[i+2, j]:\n",
    "                res.append((i+1, j))           \n",
    "    return res"
   ]
  },
  {
   "cell_type": "code",
   "execution_count": 51,
   "metadata": {},
   "outputs": [
    {
     "data": {
      "text/plain": [
       "[(1, 1), (3, 3), (2, 2)]"
      ]
     },
     "execution_count": 51,
     "metadata": {},
     "output_type": "execute_result"
    }
   ],
   "source": [
    "between_pivots(P)"
   ]
  },
  {
   "cell_type": "code",
   "execution_count": 52,
   "metadata": {},
   "outputs": [
    {
     "data": {
      "text/plain": [
       "[(0, 8), (9, 6), (9, 8), (3, 1)]"
      ]
     },
     "execution_count": 52,
     "metadata": {},
     "output_type": "execute_result"
    }
   ],
   "source": [
    "between_pivots(P2)"
   ]
  },
  {
   "cell_type": "markdown",
   "metadata": {},
   "source": [
    "## Trouver les cellules en diagonale entre deux pivots"
   ]
  },
  {
   "cell_type": "code",
   "execution_count": 53,
   "metadata": {},
   "outputs": [],
   "source": [
    "def around_pivots(P):\n",
    "    n, m = P.shape\n",
    "    res = []\n",
    "    for i in range(n-1):\n",
    "        for j in range(m-1):\n",
    "            if P[i, j] and P[i+1, j+1]:\n",
    "                res.extend([(i, j+1), (i+1, j)])\n",
    "    for i in range(n-1):\n",
    "        for j in range(m-1):\n",
    "            if P[i, j+1] and P[i+1, j]:\n",
    "                res.extend([(i, j), (i+1, j+1)])       \n",
    "    return res"
   ]
  },
  {
   "cell_type": "code",
   "execution_count": 54,
   "metadata": {},
   "outputs": [
    {
     "data": {
      "text/plain": [
       "[(1, 1), (2, 0), (8, 2), (9, 1), (8, 5), (9, 4), (3, 5), (4, 6)]"
      ]
     },
     "execution_count": 54,
     "metadata": {},
     "output_type": "execute_result"
    }
   ],
   "source": [
    "around_pivots(P2)"
   ]
  },
  {
   "cell_type": "code",
   "execution_count": 55,
   "metadata": {},
   "outputs": [
    {
     "data": {
      "text/plain": [
       "[(0, 8),\n",
       " (9, 6),\n",
       " (9, 8),\n",
       " (3, 1),\n",
       " (1, 1),\n",
       " (2, 0),\n",
       " (8, 2),\n",
       " (9, 1),\n",
       " (8, 5),\n",
       " (9, 4),\n",
       " (3, 5),\n",
       " (4, 6)]"
      ]
     },
     "execution_count": 55,
     "metadata": {},
     "output_type": "execute_result"
    }
   ],
   "source": [
    "black = between_pivots(P2)\n",
    "black.extend(around_pivots(P2))\n",
    "black"
   ]
  },
  {
   "cell_type": "markdown",
   "metadata": {},
   "source": [
    "## Solution"
   ]
  },
  {
   "cell_type": "code",
   "execution_count": 56,
   "metadata": {},
   "outputs": [
    {
     "data": {
      "text/plain": [
       "array([[ 0,  0,  0,  0,  0,  0,  0,  1, -1,  1],\n",
       "       [ 1, -1,  0,  0,  0,  0,  0,  0,  0,  0],\n",
       "       [-1,  1,  0,  0,  1,  0,  0,  0,  0,  0],\n",
       "       [ 0, -1,  0,  0,  0, -1,  1,  0,  0,  0],\n",
       "       [ 0,  1,  0,  0,  0,  1, -1,  0,  0,  0],\n",
       "       [ 0,  0,  0,  0,  0,  0,  0,  0,  0,  1],\n",
       "       [ 0,  0,  0,  0,  0,  0,  0,  0,  0,  0],\n",
       "       [ 0,  0,  0,  0,  0,  0,  0,  0,  0,  0],\n",
       "       [ 0,  1, -1,  0,  1, -1,  0,  0,  0,  0],\n",
       "       [ 0, -1,  1,  0, -1,  1, -1,  1, -1,  1]])"
      ]
     },
     "execution_count": 56,
     "metadata": {},
     "output_type": "execute_result"
    }
   ],
   "source": [
    "n, m = P2.shape\n",
    "S2 = np.zeros(P2.shape, dtype='int')\n",
    "for x in pivot_index(P2):\n",
    "    S2[tuple(x)] = 1\n",
    "for x in black:\n",
    "    S2[x] = -1\n",
    "S2"
   ]
  },
  {
   "cell_type": "markdown",
   "metadata": {},
   "source": [
    "# Afficher un graphe avec Matplotlib\n",
    "La bibliothèque matplotlib permet d'afficher des graphes et d'images."
   ]
  },
  {
   "cell_type": "code",
   "execution_count": 57,
   "metadata": {},
   "outputs": [],
   "source": [
    "import matplotlib.pyplot as plt\n",
    "%matplotlib inline"
   ]
  },
  {
   "cell_type": "code",
   "execution_count": 151,
   "metadata": {},
   "outputs": [
    {
     "data": {
      "image/png": "[encoded data removed]",
      "text/plain": [
       "<Figure size 432x288 with 1 Axes>"
      ]
     },
     "metadata": {
      "needs_background": "light"
     },
     "output_type": "display_data"
    }
   ],
   "source": [
    "plt.imshow(S2, cmap='gray')\n",
    "#plt.colorbar()\n",
    "for x in pivot_index(P2):\n",
    "    i, j = x\n",
    "    p = P2[i, j]\n",
    "    plt.text(j, i, p, ha=\"center\", va=\"center\")"
   ]
  },
  {
   "cell_type": "markdown",
   "metadata": {},
   "source": [
    "Analyze all neighbors"
   ]
  },
  {
   "cell_type": "code",
   "execution_count": 103,
   "metadata": {},
   "outputs": [
    {
     "name": "stdout",
     "output_type": "stream",
     "text": [
      "[(1, 7), (0, 6), (0, 8)]\n",
      "[(1, 9), (0, 8)]\n",
      "[(0, 0), (2, 0), (1, 1)]\n",
      "[(1, 1), (3, 1), (2, 0), (2, 2)]\n",
      "[(1, 4), (3, 4), (2, 3), (2, 5)]\n",
      "[(2, 6), (4, 6), (3, 5), (3, 7)]\n",
      "[(3, 1), (5, 1), (4, 0), (4, 2)]\n",
      "[(3, 5), (5, 5), (4, 4), (4, 6)]\n",
      "[(4, 9), (6, 9), (5, 8)]\n",
      "[(7, 1), (9, 1), (8, 0), (8, 2)]\n",
      "[(7, 4), (9, 4), (8, 3), (8, 5)]\n",
      "[(8, 2), (9, 1), (9, 3)]\n",
      "[(8, 5), (9, 4), (9, 6)]\n",
      "[(8, 7), (9, 6), (9, 8)]\n",
      "[(8, 9), (9, 8)]\n"
     ]
    }
   ],
   "source": [
    "for p in pivot_index(P2):\n",
    "    print(neighbors(P2, p))\n",
    "#    for n in neighbors(P2, p):\n",
    "#        if S2[n] == 0:\n",
    "#             print(n)"
   ]
  },
  {
   "cell_type": "code",
   "execution_count": 61,
   "metadata": {},
   "outputs": [
    {
     "data": {
      "text/plain": [
       "array([[ 0,  0,  0,  0,  0],\n",
       "       [ 1, -1,  1,  0,  0],\n",
       "       [ 0,  0, -1,  0,  0],\n",
       "       [ 0,  0,  1, -1,  1],\n",
       "       [ 0,  0,  0,  0,  0]])"
      ]
     },
     "execution_count": 61,
     "metadata": {},
     "output_type": "execute_result"
    }
   ],
   "source": [
    "n, m = P.shape\n",
    "S = np.zeros(P.shape, dtype='int')\n",
    "for x in pivot_index(P):\n",
    "    S[tuple(x)] = 1\n",
    "black = between_pivots(P)\n",
    "black.extend(around_pivots(P))\n",
    "for x in black:\n",
    "    S[x] = -1\n",
    "S"
   ]
  },
  {
   "cell_type": "code",
   "execution_count": 62,
   "metadata": {},
   "outputs": [
    {
     "data": {
      "image/png": "[encoded data removed]",
      "text/plain": [
       "<Figure size 432x288 with 1 Axes>"
      ]
     },
     "metadata": {
      "needs_background": "light"
     },
     "output_type": "display_data"
    }
   ],
   "source": [
    "plt.imshow(S, cmap='gray')\n",
    "#plt.colorbar()\n",
    "for x in pivot_index(P):\n",
    "    i, j = x\n",
    "    p = P[i, j]\n",
    "    plt.text(j, i, p, ha=\"center\", va=\"center\")"
   ]
  },
  {
   "cell_type": "markdown",
   "metadata": {},
   "source": [
    "# Programmation orienté objet"
   ]
  },
  {
   "cell_type": "code",
   "execution_count": 63,
   "metadata": {},
   "outputs": [],
   "source": [
    "class Nurikabe:\n",
    "    def __init__(self, table):\n",
    "        self.P = np.array(table) # puzzle\n",
    "        self.n = self.P.shape[0]\n",
    "        self.m = self.P.shape[1]\n",
    "        \n",
    "        self.pivots = [tuple(x) for x in np.transpose(np.nonzero(self.P))]\n",
    "        self.pivot_values = [self.P[x] for x in self.pivots]\n",
    "        \n",
    "        self.S = np.zeros(self.P.shape, dtype='int')\n",
    "        for x in self.pivots:\n",
    "            self.S[x] = 1\n",
    "            \n",
    "        self.between_pivots()\n",
    "            \n",
    "    def between_pivots(self):\n",
    "        P = self.P\n",
    "        n, m = P.shape\n",
    "        \n",
    "        # a cell between two horizontal pivots is black\n",
    "        for i in range(n):\n",
    "            for j in range(m-2):\n",
    "                if self.P[i, j] and self.P[i, j+2]:\n",
    "                    self.S[i, j+1] = -1\n",
    "                    \n",
    "        # a cell between two vertical pivots is black\n",
    "        for j in range(m):\n",
    "            for i in range(n-2):\n",
    "                if P[i, j] and P[i+2, j]:\n",
    "                    self.S[(i+1, j)] = -1           \n",
    "    \n",
    "        # the two cells around two diagonal pivots are black\n",
    "        for i in range(n-1):\n",
    "            for j in range(m-1):\n",
    "                if P[i, j] and P[i+1, j+1]:\n",
    "                    self.S[(i, j+1)] = -1\n",
    "                    self.S[(i+1, j)] = -1\n",
    "                    \n",
    "        for i in range(n-1):\n",
    "            for j in range(m-1):\n",
    "                if P[i, j+1] and P[i+1, j]:\n",
    "                    self.S[(i, j)] = -1\n",
    "                    self.S[(i+1, j+1)] = -1\n",
    "                    \n",
    "    def neighbors(self, a):\n",
    "        i, j = a\n",
    "        res = []\n",
    "\n",
    "        if i > 0:\n",
    "            res.append((i-1, j))\n",
    "        if i < self.n-1:\n",
    "            res.append((i+1, j))\n",
    "        if j > 0:\n",
    "            res.append((i, j-1))\n",
    "        if j < self.m-1:\n",
    "            res.append((i, j+1))\n",
    "        return res\n",
    "                    \n",
    "    def show(self):\n",
    "        plt.imshow(self.S, cmap='gray')\n",
    "        for x in self.pivots:\n",
    "            i, j = x\n",
    "            p = self.P[x]\n",
    "            plt.text(j, i, p, ha=\"center\", va=\"center\")"
   ]
  },
  {
   "cell_type": "code",
   "execution_count": 64,
   "metadata": {},
   "outputs": [
    {
     "data": {
      "image/png": "[encoded data removed]",
      "text/plain": [
       "<Figure size 432x288 with 1 Axes>"
      ]
     },
     "metadata": {
      "needs_background": "light"
     },
     "output_type": "display_data"
    }
   ],
   "source": [
    "N1 = Nurikabe([ [0, 0, 0, 0, 0],\n",
    "                [6, 0, 2, 0, 0],\n",
    "                [0, 0, 0, 0, 0],\n",
    "                [0, 0, 2, 0, 2],\n",
    "                [0, 0, 0, 0, 0]])\n",
    "N1.show()"
   ]
  },
  {
   "cell_type": "code",
   "execution_count": 65,
   "metadata": {},
   "outputs": [
    {
     "data": {
      "image/png": "[encoded data removed]",
      "text/plain": [
       "<Figure size 432x288 with 1 Axes>"
      ]
     },
     "metadata": {
      "needs_background": "light"
     },
     "output_type": "display_data"
    }
   ],
   "source": [
    "N2 = Nurikabe([[0, 0, 0, 0, 0, 0, 0, 5, 0, 2],\n",
    "               [3, 0, 0, 0, 0, 0, 0, 0, 0, 0],\n",
    "               [0, 4, 0, 0, 2, 0, 0, 0, 0, 0],\n",
    "               [0, 0, 0, 0, 0, 0, 3, 0, 0, 0],\n",
    "               [0, 4, 0, 0, 0, 4, 0, 0, 0, 0],\n",
    "               [0, 0, 0, 0, 0, 0, 0, 0, 0, 3],\n",
    "               [0, 0, 0, 0, 0, 0, 0, 0, 0, 0],\n",
    "               [0, 0, 0, 0, 0, 0, 0, 0, 0, 0],\n",
    "               [0, 3, 0, 0, 3, 0, 0, 0, 0, 0],\n",
    "               [0, 0, 1, 0, 0, 1, 0, 3, 0, 3]])\n",
    "N2.show()"
   ]
  },
  {
   "cell_type": "markdown",
   "metadata": {},
   "source": [
    "# Génération des puzzles\n",
    "On pourrait utiliser une approche de force brute et générer toutes les combinaisons possible. Un nurikabe est representé alors comme un code binare de $2^{m n}$ bits. On represente une cellule blanche par un 0 et une cellule noire par un 1.\n",
    "\n",
    "Voici toutes les codes pour un puzzle de $2 \\times 3$."
   ]
  },
  {
   "cell_type": "code",
   "execution_count": 140,
   "metadata": {},
   "outputs": [
    {
     "name": "stdout",
     "output_type": "stream",
     "text": [
      "000000\n",
      "000001\n",
      "000010\n",
      "000011\n",
      "000100\n",
      "000101\n",
      "000110\n",
      "000111\n",
      "001000\n",
      "001001\n"
     ]
    }
   ],
   "source": [
    "n, m = 2, 3\n",
    "for a in range(2 ** (n * m)):\n",
    "    if a < 10:\n",
    "        print(np.binary_repr(a, n*m))"
   ]
  },
  {
   "cell_type": "markdown",
   "metadata": {},
   "source": [
    "## Chercher les blocs avec des operations logiques\n",
    "On utilise alors un déclage **left_shift** par m bits pour pouvoir utiliser une opération logique **bitwise_and**.\n",
    " Pour toutes les puzzles ou $c$ n'est pas 0, il a y deux cellules noires qui sont voisins verticalement."
   ]
  },
  {
   "cell_type": "code",
   "execution_count": 142,
   "metadata": {},
   "outputs": [
    {
     "name": "stdout",
     "output_type": "stream",
     "text": [
      "000000 0 000000000 0 0\n",
      "000001 1 000001000 8 0\n",
      "000010 2 000010000 16 0\n",
      "000011 3 000011000 24 0\n",
      "000100 4 000100000 32 0\n",
      "000101 5 000101000 40 0\n",
      "000110 6 000110000 48 0\n",
      "000111 7 000111000 56 0\n",
      "001000 8 001000000 64 0\n",
      "001001 9 001001000 72 8\n"
     ]
    }
   ],
   "source": [
    "for a in range(2 ** (n * m)):\n",
    "    b = np.left_shift(a, m)\n",
    "    c = np.bitwise_and(a, b)\n",
    "    if a < 10:\n",
    "        print(np.binary_repr(a, n*m), a, np.binary_repr(b, 9), b, c)"
   ]
  },
  {
   "cell_type": "markdown",
   "metadata": {},
   "source": [
    "### Vérification horizontale\n",
    "Pour vérifire si deux cellules noires son voisin, on fait un décalage de 1 bits et et applique l'opération logique **and**."
   ]
  },
  {
   "cell_type": "code",
   "execution_count": 145,
   "metadata": {
    "scrolled": false
   },
   "outputs": [
    {
     "name": "stdout",
     "output_type": "stream",
     "text": [
      "000000 0 0 0\n",
      "000001 1 2 0\n",
      "000010 2 4 0\n",
      "000011 3 6 2\n",
      "000100 4 8 0\n",
      "000101 5 10 0\n",
      "000110 6 12 4\n",
      "000111 7 14 6\n",
      "001000 8 16 0\n",
      "001001 9 18 0\n"
     ]
    }
   ],
   "source": [
    "for a in range(2 ** (n * m)):\n",
    "    b = np.left_shift(a, 1)\n",
    "    c = np.bitwise_and(a, b)\n",
    "    if a < 10:\n",
    "        print(np.binary_repr(a, n*m), a, b, c)"
   ]
  },
  {
   "cell_type": "markdown",
   "metadata": {},
   "source": [
    "Par contre, une cellule au bord gauche et la suivante au bord droite ne sont pas voisin et il ne faudrait pas les considérer. On va donc masquer les bits de la première colonne."
   ]
  },
  {
   "cell_type": "code",
   "execution_count": 71,
   "metadata": {},
   "outputs": [
    {
     "data": {
      "text/plain": [
       "-10"
      ]
     },
     "execution_count": 71,
     "metadata": {},
     "output_type": "execute_result"
    }
   ],
   "source": [
    "mask = 0\n",
    "for i in range(n):\n",
    "    mask += 2**(i*m)\n",
    "np.invert(mask)"
   ]
  },
  {
   "cell_type": "code",
   "execution_count": 146,
   "metadata": {
    "scrolled": true
   },
   "outputs": [
    {
     "name": "stdout",
     "output_type": "stream",
     "text": [
      "000000 0 0 0\n",
      "000001 1 2 0\n",
      "000010 2 4 0\n",
      "000011 3 6 2\n",
      "000100 4 0 0\n",
      "000101 5 2 0\n",
      "000110 6 4 4\n",
      "000111 7 6 6\n",
      "001000 8 16 0\n",
      "001001 9 18 0\n"
     ]
    }
   ],
   "source": [
    "mask = 0\n",
    "for i in range(n):\n",
    "    mask += 2**(i*m)\n",
    "mask = np.invert(mask)\n",
    "for a in range(2 ** (n * m)):\n",
    "    b = np.left_shift(a, 1)\n",
    "    b = np.bitwise_and(b, mask)\n",
    "    c = np.bitwise_and(a, b)\n",
    "    if a < 10:\n",
    "        print(np.binary_repr(a, n*m), a, b, c)"
   ]
  },
  {
   "cell_type": "markdown",
   "metadata": {},
   "source": [
    "### Vérification des blocs 2x2\n",
    "Maintenant nous pouvons combiner les deux méthodes."
   ]
  },
  {
   "cell_type": "code",
   "execution_count": 147,
   "metadata": {
    "scrolled": true
   },
   "outputs": [
    {
     "name": "stdout",
     "output_type": "stream",
     "text": [
      "011011 27 54 18 144 16\n",
      "011111 31 54 22 176 16\n",
      "110110 54 100 36 288 32\n",
      "110111 55 102 38 304 32\n",
      "111011 59 118 50 400 16\n",
      "111110 62 116 52 416 32\n",
      "111111 63 118 54 432 48\n",
      "combinations 64\n",
      "pools 7\n"
     ]
    }
   ],
   "source": [
    "n, m = 2, 3\n",
    "mask = 0\n",
    "pools = 0\n",
    "for i in range(n):\n",
    "    mask += 2**(i*m)\n",
    "mask = np.invert(mask)\n",
    "for a in range(2 ** (n * m)):\n",
    "    b = np.left_shift(a, 1)\n",
    "    b = np.bitwise_and(b, mask)\n",
    "    c = np.bitwise_and(a, b)\n",
    "    d = np.left_shift(c, m)\n",
    "    e = np.bitwise_and(c, d)\n",
    "    if e > 0:\n",
    "        print(np.binary_repr(a, n*m), a, b, c, d, e)\n",
    "        pools += 1\n",
    "\n",
    "print('combinations', 2 ** (m*n))\n",
    "print('pools', pools)"
   ]
  },
  {
   "cell_type": "markdown",
   "metadata": {},
   "source": [
    "Avec une grille $4 \\times 4$ nous avons un tiers de solutions qui ont des blocs. On obtient le résultat après 2-3 secondes."
   ]
  },
  {
   "cell_type": "code",
   "execution_count": 148,
   "metadata": {},
   "outputs": [
    {
     "name": "stdout",
     "output_type": "stream",
     "text": [
      "combinations 65536\n",
      "pools 23360\n"
     ]
    }
   ],
   "source": [
    "n, m = 4, 4\n",
    "mask = 0\n",
    "pools = 0\n",
    "for i in range(n):\n",
    "    mask += 2**(i*m)\n",
    "mask = np.invert(mask)\n",
    "for a in range(2 ** (n * m)):\n",
    "    b = np.left_shift(a, 1)\n",
    "    b = np.bitwise_and(b, mask)\n",
    "    c = np.bitwise_and(a, b)\n",
    "    d = np.left_shift(c, m)\n",
    "    e = np.bitwise_and(c, d)\n",
    "    if e > 0:\n",
    "        pools += 1\n",
    "\n",
    "print('combinations', 2 ** (m*n))\n",
    "print('pools', pools)"
   ]
  },
  {
   "cell_type": "markdown",
   "metadata": {},
   "source": [
    "Pour calculer plus qu'un million de combinaison, il faut déjà plusieurs dizaines de secondes pour obtenir un résultat. Presque la moitié des combinaisons contiennent des blocs."
   ]
  },
  {
   "cell_type": "code",
   "execution_count": 149,
   "metadata": {},
   "outputs": [
    {
     "name": "stdout",
     "output_type": "stream",
     "text": [
      "combinations 1048576\n",
      "pools 460656\n"
     ]
    }
   ],
   "source": [
    "n, m = 4, 5\n",
    "mask = 0\n",
    "pools = 0\n",
    "for i in range(n):\n",
    "    mask += 2**(i*m)\n",
    "mask = np.invert(mask)\n",
    "for a in range(2 ** (n * m)):\n",
    "    b = np.left_shift(a, 1)\n",
    "    b = np.bitwise_and(b, mask)\n",
    "    c = np.bitwise_and(a, b)\n",
    "    d = np.left_shift(c, m)\n",
    "    e = np.bitwise_and(c, d)\n",
    "    if e > 0:\n",
    "        pools += 1\n",
    "\n",
    "print('combinations', 2 ** (m*n))\n",
    "print('pools', pools)"
   ]
  },
  {
   "cell_type": "markdown",
   "metadata": {},
   "source": [
    "# Théorie des graphes\n",
    "Voici la représentation du Nurikabe (noir/blanc) sous forme de tableau binaire."
   ]
  },
  {
   "cell_type": "code",
   "execution_count": 76,
   "metadata": {},
   "outputs": [],
   "source": [
    "N3 = np.array([[0, 0, 1, 1, 1],\n",
    "               [0, 1, 0, 0, 1],\n",
    "               [0, 1, 1, 1, 1],\n",
    "               [0, 1, 0, 1, 0],\n",
    "               [0, 1, 0, 1, 0]])"
   ]
  },
  {
   "cell_type": "markdown",
   "metadata": {},
   "source": [
    "## Représentation par un tableau des adjacents\n",
    "Nous allons trouver maintenant le tableau des adjacents (voisins) pour \n",
    "* le graphe des cellules noires connectées et \n",
    "* le graphe des cellules blanches connectés."
   ]
  },
  {
   "cell_type": "code",
   "execution_count": 77,
   "metadata": {},
   "outputs": [
    {
     "name": "stdout",
     "output_type": "stream",
     "text": [
      "0 []\n",
      "1 []\n",
      "2 [3]\n",
      "3 [2, 4]\n",
      "4 [9, 3]\n",
      "5 []\n",
      "6 [11]\n",
      "7 []\n",
      "8 []\n",
      "9 [4, 14]\n",
      "10 []\n",
      "11 [6, 16, 12]\n",
      "12 [11, 13]\n",
      "13 [18, 12, 14]\n",
      "14 [9, 13]\n",
      "15 []\n",
      "16 [11, 21]\n",
      "17 []\n",
      "18 [13, 23]\n",
      "19 []\n",
      "20 []\n",
      "21 [16]\n",
      "22 []\n",
      "23 [18]\n",
      "24 []\n",
      "black = [[], [], [3], [2, 4], [9, 3], [], [11], [], [], [4, 14], [], [6, 16, 12], [11, 13], [18, 12, 14], [9, 13], [], [11, 21], [], [13, 23], [], [], [16], [], [18], []]\n",
      "white = [[5, 1], [0], [], [], [], [0, 10], [], [8], [7], [], [5, 15], [], [], [], [], [10, 20], [], [22], [], [24], [15], [], [17], [], [19]]\n"
     ]
    }
   ],
   "source": [
    "N = N3\n",
    "n, m = N.shape\n",
    "black = []\n",
    "white = []\n",
    "for i in range(n):\n",
    "    for j in range(m):\n",
    "        neighbors = []\n",
    "        if N[i, j]: \n",
    "            if i > 0 and N[i-1, j]:\n",
    "                neighbors.append((i-1)*m + j)\n",
    "            if i < n-1 and N[i+1, j]:\n",
    "                neighbors.append((i+1)*m + j)\n",
    "            if j > 0 and N[i, j-1]:\n",
    "                neighbors.append(i*m + j-1)\n",
    "            if j < m-1 and N[i, j+1]:\n",
    "                neighbors.append(i*m + j+1)\n",
    "                \n",
    "        print(i*m + j, neighbors)\n",
    "        black.append(neighbors)\n",
    "        \n",
    "        neighbors = []\n",
    "        if not N[i, j]: \n",
    "            if i > 0 and not N[i-1, j]:\n",
    "                neighbors.append((i-1)*m + j)\n",
    "            if i < n-1 and not N[i+1, j]:\n",
    "                neighbors.append((i+1)*m + j)\n",
    "            if j > 0 and not N[i, j-1]:\n",
    "                neighbors.append(i*m + j-1)\n",
    "            if j < m-1 and not N[i, j+1]:\n",
    "                neighbors.append(i*m + j+1)\n",
    "                \n",
    "        white.append(neighbors)\n",
    "        \n",
    "print('black =', black)\n",
    "print('white =', white)"
   ]
  },
  {
   "cell_type": "markdown",
   "metadata": {},
   "source": [
    "## Parcourir un graphe\n",
    "Nous devons parcourir les graphes *white* et *black* pour trouver les sous-graphes connectés."
   ]
  },
  {
   "cell_type": "code",
   "execution_count": 78,
   "metadata": {},
   "outputs": [
    {
     "data": {
      "text/plain": [
       "[0, 5, 10, 15, 20, 1]"
      ]
     },
     "execution_count": 78,
     "metadata": {},
     "output_type": "execute_result"
    }
   ],
   "source": [
    "def find_connected(v, adj, con):\n",
    "    # find connected subgraph starting at vertex v\n",
    "    if v not in con:\n",
    "        con.append(v)\n",
    "        for a in adj[v]:\n",
    "            find_connected(a, adj, con)\n",
    "    return con\n",
    "    \n",
    "start = 0\n",
    "find_connected(start, white, [])"
   ]
  },
  {
   "cell_type": "code",
   "execution_count": 79,
   "metadata": {},
   "outputs": [
    {
     "data": {
      "text/plain": [
       "[2, 3, 4, 9, 14, 13, 18, 23, 12, 11, 6, 16, 21]"
      ]
     },
     "execution_count": 79,
     "metadata": {},
     "output_type": "execute_result"
    }
   ],
   "source": [
    "start = 2\n",
    "find_connected(start, black, [])"
   ]
  },
  {
   "cell_type": "code",
   "execution_count": 80,
   "metadata": {},
   "outputs": [
    {
     "data": {
      "text/plain": [
       "[7, 8]"
      ]
     },
     "execution_count": 80,
     "metadata": {},
     "output_type": "execute_result"
    }
   ],
   "source": [
    "find_connected(7, white, [])"
   ]
  },
  {
   "cell_type": "code",
   "execution_count": 81,
   "metadata": {},
   "outputs": [
    {
     "data": {
      "text/plain": [
       "[17, 22]"
      ]
     },
     "execution_count": 81,
     "metadata": {},
     "output_type": "execute_result"
    }
   ],
   "source": [
    "find_connected(17, white, [])"
   ]
  },
  {
   "cell_type": "code",
   "execution_count": 82,
   "metadata": {},
   "outputs": [
    {
     "data": {
      "text/plain": [
       "[]"
      ]
     },
     "execution_count": 82,
     "metadata": {},
     "output_type": "execute_result"
    }
   ],
   "source": [
    "def subgraph(v, adj):\n",
    "    # find connected subgraph starting at vertex v\n",
    "    if not adj[v]:\n",
    "        return []\n",
    "    else:\n",
    "        return find_connected(v, adj, [])\n",
    "        \n",
    "subgraph(0, black)"
   ]
  },
  {
   "cell_type": "code",
   "execution_count": 83,
   "metadata": {},
   "outputs": [
    {
     "data": {
      "text/plain": [
       "[2, 3, 4, 9, 14, 13, 18, 23, 12, 11, 6, 16, 21]"
      ]
     },
     "execution_count": 83,
     "metadata": {},
     "output_type": "execute_result"
    }
   ],
   "source": [
    "subgraph(2, black)"
   ]
  },
  {
   "cell_type": "code",
   "execution_count": 84,
   "metadata": {},
   "outputs": [],
   "source": [
    "def subgraphs(adj):\n",
    "    # return the vertex lists of connected subgraphs\n",
    "    n = len(adj)\n",
    "    sub = []\n",
    "    sub_flat = []\n",
    "    for v in range(n):\n",
    "        if v not in sub_flat:\n",
    "            s = subgraph(v, adj)\n",
    "            if s:\n",
    "                sub.append(s)\n",
    "                sub_flat.extend(s)\n",
    "    return sub"
   ]
  },
  {
   "cell_type": "code",
   "execution_count": 85,
   "metadata": {},
   "outputs": [
    {
     "name": "stdout",
     "output_type": "stream",
     "text": [
      "[[0, 5, 10, 15, 20, 1], [7, 8], [17, 22], [19, 24]]\n",
      "[[2, 3, 4, 9, 14, 13, 18, 23, 12, 11, 6, 16, 21]]\n"
     ]
    }
   ],
   "source": [
    "print(subgraphs(white))\n",
    "print(subgraphs(black))"
   ]
  },
  {
   "cell_type": "markdown",
   "metadata": {},
   "source": [
    "Les sous-graphes peuvent servir a vérifier que la fleuve des cellules noires est continue."
   ]
  },
  {
   "cell_type": "code",
   "execution_count": 106,
   "metadata": {},
   "outputs": [],
   "source": [
    "adj = [[1, 7], [0, 2], [1, 3, 9]]"
   ]
  },
  {
   "cell_type": "code",
   "execution_count": 132,
   "metadata": {},
   "outputs": [],
   "source": [
    "N4 = np.array([[1, 1, 1, 1, 1, 0, 0],\n",
    "               [1, 1, 1, 0, 0, 1, 0],\n",
    "               [1, 0, 1, 1, 1, 1, 1],\n",
    "               [1, 0, 0, 0, 0, 0, 0],\n",
    "               [1, 1, 1, 1, 1, 1, 1],\n",
    "               [1, 1, 0, 0, 0, 0, 1],\n",
    "               [1, 1, 0, 1, 1, 0, 0]])"
   ]
  },
  {
   "cell_type": "code",
   "execution_count": 116,
   "metadata": {},
   "outputs": [
    {
     "data": {
      "text/plain": [
       "(7, 7)"
      ]
     },
     "execution_count": 116,
     "metadata": {},
     "output_type": "execute_result"
    }
   ],
   "source": [
    "N4.shape"
   ]
  },
  {
   "cell_type": "code",
   "execution_count": 133,
   "metadata": {},
   "outputs": [],
   "source": [
    "def get_graph(N):\n",
    "    # get the adjacence table from the binary table\n",
    "    n, m = N.shape\n",
    "    black = []\n",
    "    white = []\n",
    "    for i in range(n):\n",
    "        for j in range(m):\n",
    "            neighbors = []\n",
    "            if N[i, j]: \n",
    "                if i > 0 and N[i-1, j]:\n",
    "                    neighbors.append((i-1)*m + j)\n",
    "                if i < n-1 and N[i+1, j]:\n",
    "                    neighbors.append((i+1)*m + j)\n",
    "                if j > 0 and N[i, j-1]:\n",
    "                    neighbors.append(i*m + j-1)\n",
    "                if j < m-1 and N[i, j+1]:\n",
    "                    neighbors.append(i*m + j+1)\n",
    "            black.append(neighbors)\n",
    "\n",
    "            neighbors = []\n",
    "            if not N[i, j]: \n",
    "                if i > 0 and not N[i-1, j]:\n",
    "                    neighbors.append((i-1)*m + j)\n",
    "                if i < n-1 and not N[i+1, j]:\n",
    "                    neighbors.append((i+1)*m + j)\n",
    "                if j > 0 and not N[i, j-1]:\n",
    "                    neighbors.append(i*m + j-1)\n",
    "                if j < m-1 and not N[i, j+1]:\n",
    "                    neighbors.append(i*m + j+1)\n",
    "            white.append(neighbors)\n",
    "            \n",
    "    return [white, black]"
   ]
  },
  {
   "cell_type": "code",
   "execution_count": 134,
   "metadata": {},
   "outputs": [],
   "source": [
    "w, b = get_graph(N4)"
   ]
  },
  {
   "cell_type": "code",
   "execution_count": 135,
   "metadata": {},
   "outputs": [
    {
     "name": "stdout",
     "output_type": "stream",
     "text": [
      "4\n",
      "2\n",
      "[[5, 6, 13], [10, 11], [15, 22, 23, 24, 25, 26, 27], [37, 44, 38, 39, 40, 47, 48]]\n",
      "[[0, 7, 14, 21, 28, 35, 42, 43, 36, 29, 30, 31, 32, 33, 34, 41, 8, 1, 2, 9, 16, 17, 18, 19, 12, 20, 3, 4], [45, 46]]\n"
     ]
    }
   ],
   "source": [
    "print(len(subgraphs(w)))\n",
    "print(len(subgraphs(b)))\n",
    "print(subgraphs(w))\n",
    "print(subgraphs(b))"
   ]
  },
  {
   "cell_type": "code",
   "execution_count": 114,
   "metadata": {},
   "outputs": [
    {
     "data": {
      "text/plain": [
       "array([[1, 1, 1, 1, 1, 0, 0],\n",
       "       [1, 1, 1, 0, 0, 1, 0],\n",
       "       [1, 0, 1, 1, 1, 1, 1],\n",
       "       [1, 0, 0, 0, 0, 0, 0],\n",
       "       [1, 1, 1, 1, 1, 1, 1],\n",
       "       [1, 1, 0, 0, 0, 1, 1],\n",
       "       [1, 1, 0, 1, 0, 0, 0]])"
      ]
     },
     "execution_count": 114,
     "metadata": {},
     "output_type": "execute_result"
    }
   ],
   "source": [
    "N4"
   ]
  }
 ],
 "metadata": {
  "kernelspec": {
   "display_name": "Python 3",
   "language": "python",
   "name": "python3"
  },
  "language_info": {
   "codemirror_mode": {
    "name": "ipython",
    "version": 3
   },
   "file_extension": ".py",
   "mimetype": "text/x-python",
   "name": "python",
   "nbconvert_exporter": "python",
   "pygments_lexer": "ipython3",
   "version": "3.7.1"
  }
 },
 "nbformat": 4,
 "nbformat_minor": 2
}
